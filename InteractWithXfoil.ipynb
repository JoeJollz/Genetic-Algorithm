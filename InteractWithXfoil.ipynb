{
 "cells": [
  {
   "cell_type": "markdown",
   "metadata": {},
   "source": [
    "# Extracting Data From Xfoil\n",
    "\n",
    "Xfoil can be used to produce estimates for the lift and drag coefficients on a 2D aerofoil section. The 2D section can be input as a set of co-ordinates which define the shape. Xfoil then uses a vortex panel method to calculate the circulation (and hence lift) and form drag, and boundary layer theory to estimate the skin drag"
   ]
  },
  {
   "cell_type": "markdown",
   "metadata": {},
   "source": [
    "## Commumication via files\n",
    "Xfoil can be used to produce estimates for the lift and drag coefficients on a 2D aerofoil section. The 2D section can be input as a set of co-ordinates which define the shape. Xfoil then uses a vortex panel method to calculate the circulation (and hence lift) and form drag, and boundary layer theory to estimate the skin drag. \n",
    "\n",
    "Below is a robust way of interacting with xfoil programatically, to automate the process of using xfoil. This is written in python, but a similar approach can also be used using matlab.\n",
    "\n",
    "1. Write a file to disk which contains xfoil commands.\n",
    "2. Use a system call to run xfoil, and redirect the file into xfoil.\n",
    "3. Redirect the output from the screen (stdout) to a file.\n",
    "4. Read the file, and extract the required data. \n",
    "\n",
    "In linux commands that would other wise be typed into a program by the user can be redirected in from a pre-written file. \n",
    "\n",
    "The command \n",
    "\n",
    "    user$ xfoil < inputfile.txt\n",
    " \n",
    "runs xfoil and reads the commands from the file \"inputfile.txt\".The command \n",
    "\n",
    "    user$ xfoil < inputfile.txt > outputfile.txt\n",
    "    \n",
    "also outputs to \"outputfile.txt\"\n",
    "\n",
    "This method also works on windows. \n",
    "\n",
    "You can also download an add-in to matlab which runs xfoil, but it works in the same way. \n",
    "\n",
    "\n"
   ]
  },
  {
   "cell_type": "code",
   "execution_count": 25,
   "metadata": {
    "collapsed": false,
    "jupyter": {
     "outputs_hidden": false
    }
   },
   "outputs": [
    {
     "name": "stdout",
     "output_type": "stream",
     "text": [
      "[' Side 2 forced transition at x/c =  1.0000   75\\n', '\\n', '  10   rms: 0.2750E-03   max: -.2409E-02   C at   75  2\\n', '       a =  5.000      CL =  0.7049\\n', '      Cm = -0.0354     CD =  0.01687   =>   CDf =  0.00637    CDp =  0.01050\\n', ' VISCAL:  Convergence failed\\n', ' Type \"!\" to continue iterating\\n', '\\n', '.OPERv   c>  \\n', ' XFOIL   c>  ']\n",
      "lift coefficienct =  0.7049\n",
      "drag coefficient =  0.01687\n"
     ]
    }
   ],
   "source": [
    "#%%\n",
    "from io import *\n",
    "import os\n",
    "import re\n",
    "\n",
    "#open the file for the xfoil commands\n",
    "out=open('xfoilinput.txt', 'w')\n",
    "\n",
    "# Write xfoil commands to the file (as they would \n",
    "# be typed into xfoil)\n",
    "out.write(\n",
    "\"\"\"load testfoil.dat\n",
    "panel\n",
    "OPER\n",
    "V 1e-5\n",
    "Re 1e5\n",
    "A 5\n",
    "!\n",
    "\n",
    "quit\n",
    "\"\"\"\n",
    ")\n",
    "\n",
    "#Close the file to make sure the file is written \n",
    "#to disk properly\n",
    "out.close() \n",
    "\n",
    "#call the system command to run xfoil and redirect \n",
    "#our input file into it\n",
    "os.system('xfoil < xfoilinput.txt > xfoiloutput.txt')\n",
    "\n",
    "#Using the python popen command, the output from this can \n",
    "#be redirected from the standard output using the read() \n",
    "#method.\n",
    "\n",
    "        \n",
    "text= open(\"xfoiloutput.txt\").readlines()[-10:]\n",
    "print(text)\n",
    "#use regular expressions to read the \n",
    "#text and find the Cl and Cd\n",
    "matches=re.search('CL =  ([0-9/.]*)',text[3])\n",
    "cl = matches.groups()[0]\n",
    "print(\"lift coefficienct = \",cl)\n",
    "matches=re.search('CD =  ([0-9/.]*)',text[4])\n",
    "cd = matches.groups()[0]\n",
    "print(\"drag coefficient = \", cd)"
   ]
  },
  {
   "cell_type": "markdown",
   "metadata": {},
   "source": [
    "## Using the python xfoil module\n",
    "\n",
    "If you can get it to install, the following module in python is a clone of xfoil.\n",
    "\n",
    "https://pypi.org/project/xfoil/\n",
    "\n",
    "\n"
   ]
  },
  {
   "cell_type": "code",
   "execution_count": 26,
   "metadata": {},
   "outputs": [
    {
     "data": {
      "image/png": "[encoded data removed]",
      "text/plain": [
       "<Figure size 432x288 with 1 Axes>"
      ]
     },
     "metadata": {
      "needs_background": "light"
     },
     "output_type": "display_data"
    }
   ],
   "source": [
    "import xfoil as xf\n",
    "import xfoil.model as m\n",
    "from matplotlib.pylab import *\n",
    "\n",
    "\n",
    "from numpy import *\n",
    "\n",
    "#load teh x y data for the foil\n",
    "\n",
    "co = loadtxt('foil.dat',float) # CHANGE FILE NAME AND UNCOMMENT TO USE YOUR FILE\n",
    "\n",
    "#create an xfoil class\n",
    "x=xf.XFoil()\n",
    "\n",
    "#create new aerofoil object to pass to the class\n",
    "af=m.Airfoil(co[:,0],co[:,1])       #UNCOMMENT TO USE YOUR FILE\n",
    "x.airfoil=af       #UNCOMMENT TO USE YOUR FILE\n",
    "#or an use a naca aerofoil\n",
    "#x.naca('0012')              #COMMENT TO USE YOU FILE\n",
    "x.repanel(100)\n",
    "x.Re = 1e5\n",
    "x.max_iter = 500\n",
    "#cl,cd,cm,ct= x.a(90)       #use this command for single angle of attack\n",
    "a,cl,cd,cm,ct= x.aseq(0,17,.5)\n",
    "plot(a,cl)\n",
    "plot(a,cd)\n",
    "xlabel('Angle of attack')\n",
    "ylabel('Cl and Cd')\n",
    "show()"
   ]
  },
  {
   "cell_type": "markdown",
   "metadata": {},
   "source": [
    "## Using sub-processes (Python+linux only)\n",
    "\n",
    "Using a file to communicate between two computer programs is inefficient. Using python (difficult in matlab) subprocesses can be used. Below, the module pexpect is used to spawn a new Xfoil process, and send commands to it, before reading back its response. The loop will keep Xfoil iterating until it converges. "
   ]
  },
  {
   "cell_type": "code",
   "execution_count": 4,
   "metadata": {
    "collapsed": false,
    "jupyter": {
     "outputs_hidden": false
    }
   },
   "outputs": [
    {
     "ename": "ModuleNotFoundError",
     "evalue": "No module named 'pexpect'",
     "output_type": "error",
     "traceback": [
      "\u001b[1;31m---------------------------------------------------------------------------\u001b[0m",
      "\u001b[1;31mModuleNotFoundError\u001b[0m                       Traceback (most recent call last)",
      "\u001b[1;32m<ipython-input-4-0ef0ea4af397>\u001b[0m in \u001b[0;36m<module>\u001b[1;34m\u001b[0m\n\u001b[1;32m----> 1\u001b[1;33m \u001b[1;32mimport\u001b[0m \u001b[0mpexpect\u001b[0m\u001b[1;33m,\u001b[0m \u001b[0mpexpect\u001b[0m\u001b[1;33m.\u001b[0m\u001b[0mpopen_spawn\u001b[0m\u001b[1;33m\u001b[0m\u001b[1;33m\u001b[0m\u001b[0m\n\u001b[0m\u001b[0;32m      2\u001b[0m \u001b[1;32mimport\u001b[0m \u001b[0mre\u001b[0m\u001b[1;33m\u001b[0m\u001b[1;33m\u001b[0m\u001b[0m\n\u001b[0;32m      3\u001b[0m \u001b[0mpromptlist\u001b[0m \u001b[1;33m=\u001b[0m \u001b[1;34mb'c>   '\u001b[0m\u001b[1;33m\u001b[0m\u001b[1;33m\u001b[0m\u001b[0m\n\u001b[0;32m      4\u001b[0m \u001b[0mchild\u001b[0m\u001b[1;33m=\u001b[0m\u001b[0mpexpect\u001b[0m\u001b[1;33m.\u001b[0m\u001b[0mpopen_spawn\u001b[0m\u001b[1;33m.\u001b[0m\u001b[0mPopenSpawn\u001b[0m\u001b[1;33m(\u001b[0m\u001b[1;34m\"cmd\"\u001b[0m\u001b[1;33m,\u001b[0m\u001b[1;36m10\u001b[0m\u001b[1;33m)\u001b[0m\u001b[1;33m\u001b[0m\u001b[1;33m\u001b[0m\u001b[0m\n\u001b[0;32m      5\u001b[0m \u001b[0mchild\u001b[0m\u001b[1;33m.\u001b[0m\u001b[0msendline\u001b[0m\u001b[1;33m(\u001b[0m\u001b[1;34mb\"C:\\Users\\sas37\\OneDrive - University Of Cambridge\\Teaching\\ET-B2 wind etc\"\u001b[0m\u001b[1;33m)\u001b[0m\u001b[1;33m\u001b[0m\u001b[1;33m\u001b[0m\u001b[0m\n",
      "\u001b[1;31mModuleNotFoundError\u001b[0m: No module named 'pexpect'"
     ]
    }
   ],
   "source": [
    "import pexpect, pexpect.popen_spawn\n",
    "import re\n",
    "promptlist = b'c>   '\n",
    "child=pexpect.popen_spawn.PopenSpawn(\"cmd\",10)\n",
    "child.sendline(b\"C:\\Users\\sas37\\OneDrive - University Of Cambridge\\Teaching\\ET-B2 wind etc\")\n",
    "child.sendline(b\"xfoil.exe\")\n",
    "child.expect(promptlist)\n",
    "child.sendline('load testfoil.dat')\n",
    "#child.expect(promptlist)\n",
    "child.sendline('OPER')\n",
    "#child.expect(promptlist)\n",
    "child.sendline('V 1e-5')\n",
    "#child.expect(promptlist)\n",
    "child.sendline('Re 1e5')\n",
    "#child.expect(promptlist)\n",
    "child.sendline('A 5')\n",
    "#child.expect(promptlist,timeout=2)\n",
    "stuff = child.before.splitlines()\n",
    "while stuff[-2]== b' Type \"!\" to continue iterating':\n",
    "    child.sendline('!')\n",
    "    child.expect(promptlist)\n",
    "    stuff = child.before.splitlines()\n",
    "    #use regular expressions to read the text and find the Cl and Cd\n",
    "    matches=re.search('CL = ([0-9/.]*)',stuff[-4].decode())\n",
    "    cl = matches.groups()[0]\n",
    "    print(\"lift coefficient = \",cl)\n",
    "    matches=re.search('CD = ([0-9/.]*)',stuff[-3].decode())\n",
    "    cd = matches.groups()[0]\n",
    "    print(\"drag coefficient = \", cd)\n",
    "\n"
   ]
  }
 ],
 "metadata": {
  "anaconda-cloud": {},
  "kernelspec": {
   "display_name": "Python 3",
   "language": "python",
   "name": "python3"
  },
  "language_info": {
   "codemirror_mode": {
    "name": "ipython",
    "version": 3
   },
   "file_extension": ".py",
   "mimetype": "text/x-python",
   "name": "python",
   "nbconvert_exporter": "python",
   "pygments_lexer": "ipython3",
   "version": "3.7.3"
  }
 },
 "nbformat": 4,
 "nbformat_minor": 4
}
